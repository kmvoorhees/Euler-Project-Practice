{
 "cells": [
  {
   "cell_type": "code",
   "execution_count": 3,
   "metadata": {
    "collapsed": false
   },
   "outputs": [
    {
     "name": "stdout",
     "output_type": "stream",
     "text": [
      "23\n",
      "233168\n"
     ]
    }
   ],
   "source": [
    "def euler1(n):\n",
    "    sum = 0\n",
    "    for i in range(1,n):\n",
    "        if i % 3 == 0 or i % 5 == 0:\n",
    "            sum += i\n",
    "    return sum\n",
    "\n",
    "print euler1(10)\n",
    "print euler1(1000)"
   ]
  },
  {
   "cell_type": "code",
   "execution_count": 6,
   "metadata": {
    "collapsed": false
   },
   "outputs": [
    {
     "name": "stdout",
     "output_type": "stream",
     "text": [
      "10\n",
      "4613732\n"
     ]
    }
   ],
   "source": [
    "def euler2(n):\n",
    "    i = 1\n",
    "    previ = 1\n",
    "    newi = 0\n",
    "    sum = 0\n",
    "    while i < n:\n",
    "        if i % 2 == 0:\n",
    "            sum += i\n",
    "        newi = i + previ\n",
    "        previ = i\n",
    "        i = newi\n",
    "    return sum\n",
    "\n",
    "print euler2(10)\n",
    "print euler2(4000000)\n",
    "        \n",
    "        "
   ]
  },
  {
   "cell_type": "code",
   "execution_count": null,
   "metadata": {
    "collapsed": false
   },
   "outputs": [],
   "source": [
    "def primecheck(n):\n",
    "    for i in range(2,int(round(n**0.5))):\n",
    "        if n % i == 0:\n",
    "            return False\n",
    "    else:\n",
    "        return True\n",
    "\n",
    "def largestprimefactor(n):\n",
    "    for i in range(2,n/2):\n",
    "        if n % i == 0:\n",
    "            #print i\n",
    "            factor = n / i\n",
    "            if primecheck (factor):\n",
    "                return factor\n",
    "            else:\n",
    "                #print (factor)\n",
    "                largestprimefactor(factor)\n",
    "\n",
    "                \n",
    "print largestprimefactor(13195)\n",
    "print largestprimefactor(600851475143)"
   ]
  },
  {
   "cell_type": "code",
   "execution_count": null,
   "metadata": {
    "collapsed": true
   },
   "outputs": [],
   "source": []
  }
 ],
 "metadata": {
  "kernelspec": {
   "display_name": "Python 2",
   "language": "python",
   "name": "python2"
  },
  "language_info": {
   "codemirror_mode": {
    "name": "ipython",
    "version": 2
   },
   "file_extension": ".py",
   "mimetype": "text/x-python",
   "name": "python",
   "nbconvert_exporter": "python",
   "pygments_lexer": "ipython2",
   "version": "2.7.10"
  }
 },
 "nbformat": 4,
 "nbformat_minor": 0
}
